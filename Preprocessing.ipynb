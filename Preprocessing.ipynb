{
  "nbformat": 4,
  "nbformat_minor": 0,
  "metadata": {
    "colab": {
      "name": "Preprocessing.ipynb",
      "provenance": [],
      "collapsed_sections": [],
      "mount_file_id": "1D9JUPUhyFdfh9V7vWQSIhn8sULO7eTny",
      "authorship_tag": "ABX9TyML9Wrfc3dVrrkTUvkwmtKG",
      "include_colab_link": true
    },
    "kernelspec": {
      "name": "python3",
      "display_name": "Python 3"
    }
  },
  "cells": [
    {
      "cell_type": "markdown",
      "metadata": {
        "id": "view-in-github",
        "colab_type": "text"
      },
      "source": [
        "<a href=\"https://colab.research.google.com/github/bharat787/ForestDeptProj/blob/master/Preprocessing.ipynb\" target=\"_parent\"><img src=\"https://colab.research.google.com/assets/colab-badge.svg\" alt=\"Open In Colab\"/></a>"
      ]
    },
    {
      "cell_type": "markdown",
      "metadata": {
        "id": "NWIFWEKyG_Hi",
        "colab_type": "text"
      },
      "source": [
        "# Import all Keras libraries \n",
        "All libraries related to image processing, numpy, cv2 to be imported.\n"
      ]
    },
    {
      "cell_type": "code",
      "metadata": {
        "id": "NTRaAi-GlsnU",
        "colab_type": "code",
        "outputId": "cb02b341-b234-4154-84d7-1ff48f206c52",
        "colab": {
          "base_uri": "https://localhost:8080/",
          "height": 34
        }
      },
      "source": [
        "import numpy as np\n",
        "import random\n",
        "import cv2\n",
        "import os\n",
        "from keras import layers\n",
        "from keras.layers import Input, Add, Dense, Activation, ZeroPadding2D, BatchNormalization, Flatten, Conv2D, AveragePooling2D, MaxPooling2D, GlobalMaxPooling2D\n",
        "from keras.models import Model, load_model\n",
        "from keras.preprocessing import image\n",
        "from keras.preprocessing.image import ImageDataGenerator\n",
        "from keras.preprocessing.image import img_to_array\n",
        "from keras.utils import to_categorical\n",
        "from keras.utils import layer_utils\n",
        "from keras.utils.data_utils import get_file\n",
        "from keras.applications.imagenet_utils import preprocess_input\n",
        "import pydot\n",
        "from keras.utils.vis_utils import model_to_dot\n",
        "from keras.utils import plot_model\n",
        "#from resnets_utils import *\n",
        "from keras.initializers import glorot_uniform\n",
        "import scipy.misc\n",
        "from sklearn.model_selection import train_test_split\n",
        "# from keras.optimizers import Adam\n",
        "from matplotlib.pyplot import imshow\n",
        "#cd %matplotlib inline\n",
        "\n",
        "import keras.backend as K\n",
        "K.set_image_data_format('channels_last')\n",
        "K.set_learning_phase(1)"
      ],
      "execution_count": 0,
      "outputs": [
        {
          "output_type": "stream",
          "text": [
            "Using TensorFlow backend.\n"
          ],
          "name": "stderr"
        }
      ]
    },
    {
      "cell_type": "markdown",
      "metadata": {
        "id": "t0SBN483HXf7",
        "colab_type": "text"
      },
      "source": [
        "# Importing image dataset\n",
        "All image datasets were imported directly from folders stored in google drive.\n"
      ]
    },
    {
      "cell_type": "code",
      "metadata": {
        "id": "12kL7Ad4tZmH",
        "colab_type": "code",
        "outputId": "f90e2377-9bb2-44f0-bc55-f44f3fa77d87",
        "colab": {
          "base_uri": "https://localhost:8080/",
          "height": 34
        }
      },
      "source": [
        "from google.colab import drive\n",
        "drive.mount('/content/gdrive')"
      ],
      "execution_count": 0,
      "outputs": [
        {
          "output_type": "stream",
          "text": [
            "Mounted at /content/gdrive\n"
          ],
          "name": "stdout"
        }
      ]
    },
    {
      "cell_type": "markdown",
      "metadata": {
        "id": "fMc-vdJBHnvB",
        "colab_type": "text"
      },
      "source": [
        "Since colab doesn't support cv2.imshow we import a patch workaround\n",
        "cv2_imshow replaces all cv2.imshow calls."
      ]
    },
    {
      "cell_type": "code",
      "metadata": {
        "id": "TP2Wflry89d6",
        "colab_type": "code",
        "colab": {}
      },
      "source": [
        "from google.colab.patches import cv2_imshow"
      ],
      "execution_count": 0,
      "outputs": []
    },
    {
      "cell_type": "markdown",
      "metadata": {
        "id": "IQH3s2daIPbd",
        "colab_type": "text"
      },
      "source": [
        "# Load data and Preprocess\n",
        "Find the path to your folder using the files menu on the right(if using colab)\n",
        "or use the path in your local system\n",
        "Preprocessing includes resizing to input size(here, 64x64), converting to numpy array, labelling the images, shuffling the whole dataset."
      ]
    },
    {
      "cell_type": "code",
      "metadata": {
        "id": "PoWkwi5Nkhol",
        "colab_type": "code",
        "colab": {}
      },
      "source": [
        "# code to preprocess and load data\n",
        "\n",
        "# initialize the data and labels list\n",
        "print(\"[INFO] loading images...\")\n",
        "data = []\n",
        "labels = []\n",
        "\n",
        "# grab the image paths and randomly shuffle them\n",
        "imagePaths = '/content/drive/My Drive/forestdata/dataset/Mngroves' # address path\n",
        "for filename in os.listdir(imagePaths):\n",
        "    if filename.endswith(\"jpg\"):                                   # change if other format\n",
        "        # Your code comes here such as \n",
        "        fname = ('/content/drive/My Drive/forestdata/dataset/Mngroves/' + str(filename)) # total path by joining path + filename\n",
        "        image = cv2.imread(fname)\n",
        "        #cv2_imshow(image)\n",
        "        image = cv2.resize(image, (64, 64))  # 64 x 64 is input to resnet\n",
        "        image = img_to_array(image)\n",
        "        data.append(image)\n",
        "       \n",
        "        # get the labels\n",
        "        label = fname.split(os.path.sep)[-2]\n",
        "        label = 1 if label == \"Mngroves\" else 0\n",
        "        labels.append(label)\n",
        "print('all done')   \n"
      ],
      "execution_count": 0,
      "outputs": []
    },
    {
      "cell_type": "code",
      "metadata": {
        "id": "OpAFiy4OmA_A",
        "colab_type": "code",
        "colab": {}
      },
      "source": [
        "name = '/content/drive/My Drive/forestdata/dataset/Mngroves/' + 'Mngroves0.jpg'\n",
        "image = cv2.imread(name)\n",
        "cv2_imshow(image)"
      ],
      "execution_count": 0,
      "outputs": []
    },
    {
      "cell_type": "markdown",
      "metadata": {
        "id": "vvM13AeiLD-D",
        "colab_type": "text"
      },
      "source": [
        "Loading the second class of images.\n"
      ]
    },
    {
      "cell_type": "code",
      "metadata": {
        "id": "xzZ41W_LulYJ",
        "colab_type": "code",
        "colab": {}
      },
      "source": [
        "imagePaths = '/content/drive/My Drive/forestdata/dataset/NtMngroves'\n",
        "for filename in os.listdir(imagePaths):\n",
        "    if filename.endswith(\"jpg\"): \n",
        "        # Your code comes here such as \n",
        "        fname = ('/content/drive/My Drive/forestdata/dataset/NtMngroves/' + str(filename))\n",
        "        print(fname)\n",
        "        \n",
        "        image = cv2.imread(fname)\n",
        "        #cv2_imshow(image)\n",
        "        image = cv2.resize(image, (64, 64))  # 64 x 64 is input to resnet\n",
        "        image = img_to_array(image)\n",
        "        data.append(image)\n",
        "       \n",
        "        # get the labels\n",
        "        label = fname.split(os.path.sep)[-2]\n",
        "        label = 1 if label == \"Mngroves\" else 0\n",
        "        labels.append(label)\n",
        "Print('all done')"
      ],
      "execution_count": 0,
      "outputs": []
    },
    {
      "cell_type": "markdown",
      "metadata": {
        "id": "J4dSauaaLRnZ",
        "colab_type": "text"
      },
      "source": [
        "# Shuffling data\n",
        "Done so as to prevent classifer to tune to one class over the other\n",
        "also both data and labels are shuffled in unison so that corresponding image and label remain the same."
      ]
    },
    {
      "cell_type": "code",
      "metadata": {
        "id": "CMWDVvAi7y48",
        "colab_type": "code",
        "colab": {}
      },
      "source": [
        "rng_state = np.random.get_state()     # random state is kept the same so that\n",
        "np.random.shuffle(data)               # both get same order whilst shuffling\n",
        "np.random.set_state(rng_state)\n",
        "np.random.shuffle(labels)"
      ],
      "execution_count": 0,
      "outputs": []
    },
    {
      "cell_type": "code",
      "metadata": {
        "id": "Fi2Az9RBEPif",
        "colab_type": "code",
        "colab": {}
      },
      "source": [
        "print(labels) # checking if shuffling done properly"
      ],
      "execution_count": 0,
      "outputs": []
    },
    {
      "cell_type": "code",
      "metadata": {
        "id": "I9uAXtrQEXTu",
        "colab_type": "code",
        "outputId": "b57c1644-ebd6-47e9-892b-aa9c3010c32b",
        "colab": {
          "base_uri": "https://localhost:8080/",
          "height": 81
        }
      },
      "source": [
        "cv2_imshow(data[1]) # change the indice to manually confirm shuffle"
      ],
      "execution_count": 0,
      "outputs": [
        {
          "output_type": "display_data",
          "data": {
            "image/png": "[encoded data removed]",
            "text/plain": [
              "<PIL.Image.Image image mode=RGB size=64x64 at 0x7F09A5AAE400>"
            ]
          },
          "metadata": {
            "tags": []
          }
        }
      ]
    },
    {
      "cell_type": "markdown",
      "metadata": {
        "id": "IZjsAytiMdeE",
        "colab_type": "text"
      },
      "source": [
        "# Split Data and Create test and train sets\n",
        "We will keep a proportion of images as trainset (here 75%) as train set rest as test set(25%).\n",
        "The random state helps to keep the test and train split always same to help debug while training the model."
      ]
    },
    {
      "cell_type": "code",
      "metadata": {
        "id": "Ztc1DQiUEdAc",
        "colab_type": "code",
        "outputId": "a828b74f-5c60-442d-ce1a-74195871e198",
        "colab": {
          "base_uri": "https://localhost:8080/",
          "height": 54
        }
      },
      "source": [
        "(trainX, testX, trainY, testY) = train_test_split(data,\n",
        "\tlabels, test_size=0.25, random_state=42)\n",
        "\n",
        "data = np.array(data, dtype=\"float\") / 255.0\n",
        "labels = np.array(labels)\n",
        "\n",
        "# convert the labels from integers to vectors\n",
        "trainY = to_categorical(trainY, num_classes=2)  # classification of 2 only\n",
        "testY = to_categorical(testY, num_classes=2)    # into magroves or not mangroves\n"
      ],
      "execution_count": 0,
      "outputs": [
        {
          "output_type": "execute_result",
          "data": {
            "text/plain": [
              "'\\n## TODO comment this line\\n#X_train_orig, Y_train_orig, X_test_orig, Y_test_orig, classes = load_dataset()\\n'"
            ]
          },
          "metadata": {
            "tags": []
          },
          "execution_count": 35
        }
      ]
    },
    {
      "cell_type": "code",
      "metadata": {
        "id": "CYhe50I-XZ2f",
        "colab_type": "code",
        "colab": {}
      },
      "source": [
        "print(data)"
      ],
      "execution_count": 0,
      "outputs": []
    },
    {
      "cell_type": "code",
      "metadata": {
        "id": "9SO7v1WqYfGM",
        "colab_type": "code",
        "colab": {}
      },
      "source": [
        "print(labels)"
      ],
      "execution_count": 0,
      "outputs": []
    },
    {
      "cell_type": "code",
      "metadata": {
        "id": "9rWpHl22Zcyc",
        "colab_type": "code",
        "colab": {}
      },
      "source": [
        ""
      ],
      "execution_count": 0,
      "outputs": []
    }
  ]
}