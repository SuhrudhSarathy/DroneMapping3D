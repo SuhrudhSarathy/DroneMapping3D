{
  "nbformat": 4,
  "nbformat_minor": 0,
  "metadata": {
    "colab": {
      "name": "SpeciesIdentification-Inference",
      "provenance": [],
      "collapsed_sections": [],
      "mount_file_id": "1x_UC5Bbh5_d9BF2Ng6fuGM5efcQQDhuK",
      "authorship_tag": "ABX9TyM+WRlzvb1EowSIrgFrV/0j",
      "include_colab_link": true
    },
    "kernelspec": {
      "name": "python3",
      "display_name": "Python 3"
    },
    "language_info": {
      "name": "python"
    },
    "accelerator": "GPU",
    "widgets": {
      "application/vnd.jupyter.widget-state+json": {
        "aa0329d86f124f8e8f2e6f3a436bd3f5": {
          "model_module": "@jupyter-widgets/controls",
          "model_name": "HBoxModel",
          "model_module_version": "1.5.0",
          "state": {
            "_view_name": "HBoxView",
            "_dom_classes": [],
            "_model_name": "HBoxModel",
            "_view_module": "@jupyter-widgets/controls",
            "_model_module_version": "1.5.0",
            "_view_count": null,
            "_view_module_version": "1.5.0",
            "box_style": "",
            "layout": "IPY_MODEL_b40977095a184d9b93e26d5094db3ff3",
            "_model_module": "@jupyter-widgets/controls",
            "children": [
              "IPY_MODEL_defc8f8e72894d75997529c0432be2aa",
              "IPY_MODEL_edb75c2d065e4ff3825acdbc1411a50f",
              "IPY_MODEL_1e42c3644ed34e06868487688c1537d2"
            ]
          }
        },
        "b40977095a184d9b93e26d5094db3ff3": {
          "model_module": "@jupyter-widgets/base",
          "model_name": "LayoutModel",
          "model_module_version": "1.2.0",
          "state": {
            "_view_name": "LayoutView",
            "grid_template_rows": null,
            "right": null,
            "justify_content": null,
            "_view_module": "@jupyter-widgets/base",
            "overflow": null,
            "_model_module_version": "1.2.0",
            "_view_count": null,
            "flex_flow": null,
            "width": null,
            "min_width": null,
            "border": null,
            "align_items": null,
            "bottom": null,
            "_model_module": "@jupyter-widgets/base",
            "top": null,
            "grid_column": null,
            "overflow_y": null,
            "overflow_x": null,
            "grid_auto_flow": null,
            "grid_area": null,
            "grid_template_columns": null,
            "flex": null,
            "_model_name": "LayoutModel",
            "justify_items": null,
            "grid_row": null,
            "max_height": null,
            "align_content": null,
            "visibility": null,
            "align_self": null,
            "height": null,
            "min_height": null,
            "padding": null,
            "grid_auto_rows": null,
            "grid_gap": null,
            "max_width": null,
            "order": null,
            "_view_module_version": "1.2.0",
            "grid_template_areas": null,
            "object_position": null,
            "object_fit": null,
            "grid_auto_columns": null,
            "margin": null,
            "display": null,
            "left": null
          }
        },
        "defc8f8e72894d75997529c0432be2aa": {
          "model_module": "@jupyter-widgets/controls",
          "model_name": "HTMLModel",
          "model_module_version": "1.5.0",
          "state": {
            "_view_name": "HTMLView",
            "style": "IPY_MODEL_76d837b9aa9340aab43ad002bff111ba",
            "_dom_classes": [],
            "description": "",
            "_model_name": "HTMLModel",
            "placeholder": "​",
            "_view_module": "@jupyter-widgets/controls",
            "_model_module_version": "1.5.0",
            "value": "100%",
            "_view_count": null,
            "_view_module_version": "1.5.0",
            "description_tooltip": null,
            "_model_module": "@jupyter-widgets/controls",
            "layout": "IPY_MODEL_a7c64b8e993a452682adb3f41f70b7c8"
          }
        },
        "edb75c2d065e4ff3825acdbc1411a50f": {
          "model_module": "@jupyter-widgets/controls",
          "model_name": "FloatProgressModel",
          "model_module_version": "1.5.0",
          "state": {
            "_view_name": "ProgressView",
            "style": "IPY_MODEL_878f3da20cf747859cde75295aa22ba2",
            "_dom_classes": [],
            "description": "",
            "_model_name": "FloatProgressModel",
            "bar_style": "success",
            "max": 46830571,
            "_view_module": "@jupyter-widgets/controls",
            "_model_module_version": "1.5.0",
            "value": 46830571,
            "_view_count": null,
            "_view_module_version": "1.5.0",
            "orientation": "horizontal",
            "min": 0,
            "description_tooltip": null,
            "_model_module": "@jupyter-widgets/controls",
            "layout": "IPY_MODEL_0cb526a9d6f64dec8e964528b301a4ea"
          }
        },
        "1e42c3644ed34e06868487688c1537d2": {
          "model_module": "@jupyter-widgets/controls",
          "model_name": "HTMLModel",
          "model_module_version": "1.5.0",
          "state": {
            "_view_name": "HTMLView",
            "style": "IPY_MODEL_3e59e5a2fca8449ba7f253fe033f0741",
            "_dom_classes": [],
            "description": "",
            "_model_name": "HTMLModel",
            "placeholder": "​",
            "_view_module": "@jupyter-widgets/controls",
            "_model_module_version": "1.5.0",
            "value": " 44.7M/44.7M [00:00&lt;00:00, 64.1MB/s]",
            "_view_count": null,
            "_view_module_version": "1.5.0",
            "description_tooltip": null,
            "_model_module": "@jupyter-widgets/controls",
            "layout": "IPY_MODEL_61f06e15e3cc4915b8bc1aecc6d18536"
          }
        },
        "76d837b9aa9340aab43ad002bff111ba": {
          "model_module": "@jupyter-widgets/controls",
          "model_name": "DescriptionStyleModel",
          "model_module_version": "1.5.0",
          "state": {
            "_view_name": "StyleView",
            "_model_name": "DescriptionStyleModel",
            "description_width": "",
            "_view_module": "@jupyter-widgets/base",
            "_model_module_version": "1.5.0",
            "_view_count": null,
            "_view_module_version": "1.2.0",
            "_model_module": "@jupyter-widgets/controls"
          }
        },
        "a7c64b8e993a452682adb3f41f70b7c8": {
          "model_module": "@jupyter-widgets/base",
          "model_name": "LayoutModel",
          "model_module_version": "1.2.0",
          "state": {
            "_view_name": "LayoutView",
            "grid_template_rows": null,
            "right": null,
            "justify_content": null,
            "_view_module": "@jupyter-widgets/base",
            "overflow": null,
            "_model_module_version": "1.2.0",
            "_view_count": null,
            "flex_flow": null,
            "width": null,
            "min_width": null,
            "border": null,
            "align_items": null,
            "bottom": null,
            "_model_module": "@jupyter-widgets/base",
            "top": null,
            "grid_column": null,
            "overflow_y": null,
            "overflow_x": null,
            "grid_auto_flow": null,
            "grid_area": null,
            "grid_template_columns": null,
            "flex": null,
            "_model_name": "LayoutModel",
            "justify_items": null,
            "grid_row": null,
            "max_height": null,
            "align_content": null,
            "visibility": null,
            "align_self": null,
            "height": null,
            "min_height": null,
            "padding": null,
            "grid_auto_rows": null,
            "grid_gap": null,
            "max_width": null,
            "order": null,
            "_view_module_version": "1.2.0",
            "grid_template_areas": null,
            "object_position": null,
            "object_fit": null,
            "grid_auto_columns": null,
            "margin": null,
            "display": null,
            "left": null
          }
        },
        "878f3da20cf747859cde75295aa22ba2": {
          "model_module": "@jupyter-widgets/controls",
          "model_name": "ProgressStyleModel",
          "model_module_version": "1.5.0",
          "state": {
            "_view_name": "StyleView",
            "_model_name": "ProgressStyleModel",
            "description_width": "",
            "_view_module": "@jupyter-widgets/base",
            "_model_module_version": "1.5.0",
            "_view_count": null,
            "_view_module_version": "1.2.0",
            "bar_color": null,
            "_model_module": "@jupyter-widgets/controls"
          }
        },
        "0cb526a9d6f64dec8e964528b301a4ea": {
          "model_module": "@jupyter-widgets/base",
          "model_name": "LayoutModel",
          "model_module_version": "1.2.0",
          "state": {
            "_view_name": "LayoutView",
            "grid_template_rows": null,
            "right": null,
            "justify_content": null,
            "_view_module": "@jupyter-widgets/base",
            "overflow": null,
            "_model_module_version": "1.2.0",
            "_view_count": null,
            "flex_flow": null,
            "width": null,
            "min_width": null,
            "border": null,
            "align_items": null,
            "bottom": null,
            "_model_module": "@jupyter-widgets/base",
            "top": null,
            "grid_column": null,
            "overflow_y": null,
            "overflow_x": null,
            "grid_auto_flow": null,
            "grid_area": null,
            "grid_template_columns": null,
            "flex": null,
            "_model_name": "LayoutModel",
            "justify_items": null,
            "grid_row": null,
            "max_height": null,
            "align_content": null,
            "visibility": null,
            "align_self": null,
            "height": null,
            "min_height": null,
            "padding": null,
            "grid_auto_rows": null,
            "grid_gap": null,
            "max_width": null,
            "order": null,
            "_view_module_version": "1.2.0",
            "grid_template_areas": null,
            "object_position": null,
            "object_fit": null,
            "grid_auto_columns": null,
            "margin": null,
            "display": null,
            "left": null
          }
        },
        "3e59e5a2fca8449ba7f253fe033f0741": {
          "model_module": "@jupyter-widgets/controls",
          "model_name": "DescriptionStyleModel",
          "model_module_version": "1.5.0",
          "state": {
            "_view_name": "StyleView",
            "_model_name": "DescriptionStyleModel",
            "description_width": "",
            "_view_module": "@jupyter-widgets/base",
            "_model_module_version": "1.5.0",
            "_view_count": null,
            "_view_module_version": "1.2.0",
            "_model_module": "@jupyter-widgets/controls"
          }
        },
        "61f06e15e3cc4915b8bc1aecc6d18536": {
          "model_module": "@jupyter-widgets/base",
          "model_name": "LayoutModel",
          "model_module_version": "1.2.0",
          "state": {
            "_view_name": "LayoutView",
            "grid_template_rows": null,
            "right": null,
            "justify_content": null,
            "_view_module": "@jupyter-widgets/base",
            "overflow": null,
            "_model_module_version": "1.2.0",
            "_view_count": null,
            "flex_flow": null,
            "width": null,
            "min_width": null,
            "border": null,
            "align_items": null,
            "bottom": null,
            "_model_module": "@jupyter-widgets/base",
            "top": null,
            "grid_column": null,
            "overflow_y": null,
            "overflow_x": null,
            "grid_auto_flow": null,
            "grid_area": null,
            "grid_template_columns": null,
            "flex": null,
            "_model_name": "LayoutModel",
            "justify_items": null,
            "grid_row": null,
            "max_height": null,
            "align_content": null,
            "visibility": null,
            "align_self": null,
            "height": null,
            "min_height": null,
            "padding": null,
            "grid_auto_rows": null,
            "grid_gap": null,
            "max_width": null,
            "order": null,
            "_view_module_version": "1.2.0",
            "grid_template_areas": null,
            "object_position": null,
            "object_fit": null,
            "grid_auto_columns": null,
            "margin": null,
            "display": null,
            "left": null
          }
        }
      }
    }
  },
  "cells": [
    {
      "cell_type": "markdown",
      "metadata": {
        "id": "view-in-github",
        "colab_type": "text"
      },
      "source": [
        "<a href=\"https://colab.research.google.com/github/SuhrudhSarathy/ForestDeptProj/blob/main/notebooks/Inference.ipynb\" target=\"_parent\"><img src=\"https://colab.research.google.com/assets/colab-badge.svg\" alt=\"Open In Colab\"/></a>"
      ]
    },
    {
      "cell_type": "code",
      "metadata": {
        "colab": {
          "base_uri": "https://localhost:8080/"
        },
        "id": "Wb13pbVEnGHs",
        "outputId": "1e46d399-d530-42b4-8fae-b785a176cd5e"
      },
      "source": [
        "import torch\n",
        "import torch.nn as nn\n",
        "import torch.nn.functional as F\n",
        "from torchvision import models, transforms, datasets\n",
        "\n",
        "import matplotlib.pyplot as plt\n",
        "import numpy as np\n",
        "from PIL import Image\n",
        "import os\n",
        "import datetime\n",
        "import sys\n",
        "\n",
        "dtype = torch.float\n",
        "device = torch.device(\"cuda\" if torch.cuda.is_available() else \"cpu\")\n",
        "device"
      ],
      "execution_count": 1,
      "outputs": [
        {
          "output_type": "execute_result",
          "data": {
            "text/plain": [
              "device(type='cuda')"
            ]
          },
          "metadata": {},
          "execution_count": 1
        }
      ]
    },
    {
      "cell_type": "code",
      "metadata": {
        "id": "ocv9gfG1nn9e"
      },
      "source": [
        "CLASSES = ['Acanthus Ilicifolius', 'Acrostichum aureum', 'Avicennia alba', 'Avicennia marina', 'Bruguiera cylindrica', 'Bruguiera gymnorrihza', 'Ceriops Tagal', 'Derris heterophylla', 'Excoecaria Agallocha', 'Kandelia Candel', 'Lumnizera recemosa', 'Rhizophora apiculata', 'Rhizophora mucronata', 'Sonneratia Alba', 'Sonneratia Saseolaris', 'aegiceras corniculatum']"
      ],
      "execution_count": 2,
      "outputs": []
    },
    {
      "cell_type": "code",
      "metadata": {
        "id": "DzPbS-fxnr7P"
      },
      "source": [
        "resnet_model = \"/content/drive/MyDrive/Aero_Forest_Project/resnet18_full.pth\"\n",
        "vgg_model = \"/content/drive/MyDrive/Aero_Forest_Project/vgg_full.pth\""
      ],
      "execution_count": 3,
      "outputs": []
    },
    {
      "cell_type": "code",
      "metadata": {
        "id": "Hspw72eervfT"
      },
      "source": [
        "test_dir = \"drive/MyDrive/Aero_Forest_Project/data/test\"\n",
        "data_transforms = {'test': transforms.Compose([\n",
        "        transforms.Resize(256),\n",
        "        transforms.CenterCrop(224),\n",
        "        transforms.ToTensor(),\n",
        "        transforms.Normalize([0.485, 0.456, 0.406], [0.229, 0.224, 0.225])\n",
        "    ])}\n",
        "test_dataset = datasets.ImageFolder(test_dir, data_transforms[\"test\"])\n",
        "test_data = torch.utils.data.DataLoader(test_dataset, batch_size=1, shuffle=True)"
      ],
      "execution_count": 4,
      "outputs": []
    },
    {
      "cell_type": "code",
      "metadata": {
        "id": "xesHG05dnxvh"
      },
      "source": [
        "class ResnetModel(nn.Module):\n",
        "    def __init__(self):\n",
        "        super(ResnetModel, self).__init__()\n",
        "        self.conv_net = models.resnet18(pretrained=True)\n",
        "        self.conv_net.fc = nn.Linear(self.conv_net.fc.in_features, len(CLASSES))\n",
        "\n",
        "        # Load the state dict from the drive after first train\n",
        "        self.load_state_dict(torch.load(resnet_model, map_location=device))\n",
        "        # Freeze the parameters of the convnet (if you want a feature extractor only)\n",
        "        self.to(dtype).to(device)\n",
        "\n",
        "    def forward(self, X):\n",
        "        X = self.conv_net(X)\n",
        "        # returns the class only\n",
        "        _, preds = torch.max(X, 1)\n",
        "        # Return both to use for training\n",
        "        return X, preds"
      ],
      "execution_count": 5,
      "outputs": []
    },
    {
      "cell_type": "code",
      "metadata": {
        "id": "CvDCarwenypN"
      },
      "source": [
        "class VGGModel(nn.Module):\n",
        "    def __init__(self):\n",
        "        super(VGGModel, self).__init__()\n",
        "        self.conv_net = models.vgg16(pretrained=True)\n",
        "        self.conv_net.classifier[6] = nn.Linear(self.conv_net.classifier[6].in_features, len(CLASSES))\n",
        "\n",
        "        # Load the state dict from the drive after first train\n",
        "        self.load_state_dict(torch.load(vgg_model, map_location=device))\n",
        "        # Freeze the parameters of the convnet (if you want a feature extractor only)\n",
        "        self.to(dtype).to(device)\n",
        "\n",
        "    def forward(self, X):\n",
        "        X = self.conv_net(X)\n",
        "        # returns the class only\n",
        "        _, preds = torch.max(X, 1)\n",
        "        # Return both to use for training\n",
        "        return X, preds"
      ],
      "execution_count": 6,
      "outputs": []
    },
    {
      "cell_type": "code",
      "metadata": {
        "id": "TPcE26gjn5Wz"
      },
      "source": [
        "class Classifier():\n",
        "    def __init__(self):\n",
        "        \"\"\"Core Classifier class that is an ensemble of the two models\"\"\"\n",
        "        self.resnet = ResnetModel()\n",
        "        self.vgg = VGGModel()\n",
        "\n",
        "        self.image_transform = transforms.Compose([\n",
        "        transforms.Resize(256),\n",
        "        transforms.CenterCrop(224),\n",
        "        transforms.ToTensor(),\n",
        "        transforms.Normalize([0.485, 0.456, 0.406], [0.229, 0.224, 0.225])\n",
        "    ])\n",
        "        self.resnet.eval()\n",
        "        self.vgg.eval()\n",
        "        \n",
        "    def forward(self, image):\n",
        "        X_resnet, preds_resnet = self.resnet(image)\n",
        "        X_resnet = F.softmax(X_resnet, dim=-1)\n",
        "        X_vgg, preds_vgg = self.vgg(image)\n",
        "        X_vgg = F.softmax(X_vgg, dim=-1)\n",
        "\n",
        "        return self.ensemble(X_resnet, X_vgg)\n",
        "    def ensemble(self, X_resnet, X_vgg):\n",
        "        \"\"\"Return the ensemble of both the networks\"\"\"\n",
        "        X_ens = (X_resnet + X_vgg)*0.5\n",
        "        _, preds = torch.max(X_ens, 1)\n",
        "        return X_ens, preds\n",
        "\n",
        "    def __call__(self, X):\n",
        "        return self.forward(X)"
      ],
      "execution_count": 7,
      "outputs": []
    },
    {
      "cell_type": "code",
      "metadata": {
        "colab": {
          "base_uri": "https://localhost:8080/",
          "height": 135,
          "referenced_widgets": [
            "aa0329d86f124f8e8f2e6f3a436bd3f5",
            "b40977095a184d9b93e26d5094db3ff3",
            "defc8f8e72894d75997529c0432be2aa",
            "edb75c2d065e4ff3825acdbc1411a50f",
            "1e42c3644ed34e06868487688c1537d2",
            "76d837b9aa9340aab43ad002bff111ba",
            "a7c64b8e993a452682adb3f41f70b7c8",
            "878f3da20cf747859cde75295aa22ba2",
            "0cb526a9d6f64dec8e964528b301a4ea",
            "3e59e5a2fca8449ba7f253fe033f0741",
            "61f06e15e3cc4915b8bc1aecc6d18536"
          ]
        },
        "id": "adwR_vvio4nK",
        "outputId": "8ead1f59-f922-4542-aed9-aeb77dcbdc3f"
      },
      "source": [
        "model = Classifier()"
      ],
      "execution_count": 8,
      "outputs": [
        {
          "output_type": "stream",
          "name": "stderr",
          "text": [
            "Downloading: \"https://download.pytorch.org/models/resnet18-f37072fd.pth\" to /root/.cache/torch/hub/checkpoints/resnet18-f37072fd.pth\n"
          ]
        },
        {
          "output_type": "display_data",
          "data": {
            "application/vnd.jupyter.widget-view+json": {
              "model_id": "aa0329d86f124f8e8f2e6f3a436bd3f5",
              "version_minor": 0,
              "version_major": 2
            },
            "text/plain": [
              "  0%|          | 0.00/44.7M [00:00<?, ?B/s]"
            ]
          },
          "metadata": {}
        },
        {
          "output_type": "stream",
          "name": "stderr",
          "text": [
            "Downloading: \"https://download.pytorch.org/models/vgg16-397923af.pth\" to /root/.cache/torch/hub/checkpoints/vgg16-397923af.pth\n"
          ]
        },
        {
          "output_type": "display_data",
          "data": {
            "application/vnd.jupyter.widget-view+json": {
              "model_id": "9ab0735ebf4a44b8802a65c4ada14dcb",
              "version_minor": 0,
              "version_major": 2
            },
            "text/plain": [
              "  0%|          | 0.00/528M [00:00<?, ?B/s]"
            ]
          },
          "metadata": {}
        }
      ]
    },
    {
      "cell_type": "code",
      "metadata": {
        "colab": {
          "base_uri": "https://localhost:8080/",
          "height": 817
        },
        "id": "IfVJP6orn-xr",
        "outputId": "cf48c855-7f7d-434e-d082-cb961e0a0a12"
      },
      "source": [
        "# trying to make a confusion matrix as well\n",
        "from sklearn.metrics import confusion_matrix\n",
        "import pandas as pd\n",
        "import seaborn as sns\n",
        "from tqdm import tqdm\n",
        "test_correct = 0\n",
        "predicted_label = []\n",
        "actual_label = []\n",
        "\n",
        "logs = []\n",
        "\n",
        "for input, label in tqdm(test_data):\n",
        "    input = input.to(device)\n",
        "    label = label.to(device)\n",
        "\n",
        "    val, pred = model(input)\n",
        "    val_percent = F.softmax(val, dim=-1)\n",
        "    logs.append(f\"Percentage: {torch.max(val_percent).item()}, Predicted Class: {pred.item()}, Correct Class: {label.item()}\")\n",
        "    predicted_label.append(pred.item())\n",
        "    actual_label.append(label.item())\n",
        "\n",
        "    if pred.item() == label.item():\n",
        "        test_correct += 1\n",
        "\n",
        "print(f\"Accuracy: {test_correct * 100/len(test_data)}\")\n",
        "cm = confusion_matrix(actual_label, predicted_label)\n",
        "cm_df = pd.DataFrame(cm, index=test_dataset.classes, columns=test_dataset.classes)\n",
        "\n",
        "# plot the heatmap\n",
        "plt.figure(figsize=(10, 10))\n",
        "sns.heatmap(cm_df, annot=True)\n",
        "plt.title(\"Confusion Matrix\")\n",
        "plt.ylabel('Actal Values')\n",
        "plt.xlabel('Predicted Values')\n",
        "plt.show();"
      ],
      "execution_count": 9,
      "outputs": [
        {
          "output_type": "stream",
          "name": "stderr",
          "text": [
            "  0%|          | 0/922 [00:00<?, ?it/s]/usr/local/lib/python3.7/dist-packages/torch/nn/functional.py:718: UserWarning: Named tensors and all their associated APIs are an experimental feature and subject to change. Please do not use them for anything important until they are released as stable. (Triggered internally at  /pytorch/c10/core/TensorImpl.h:1156.)\n",
            "  return torch.max_pool2d(input, kernel_size, stride, padding, dilation, ceil_mode)\n",
            "100%|██████████| 922/922 [05:30<00:00,  2.79it/s]\n"
          ]
        },
        {
          "output_type": "stream",
          "name": "stdout",
          "text": [
            "Accuracy: 86.33405639913232\n"
          ]
        },
        {
          "output_type": "display_data",
          "data": {
            "image/png": "[encoded data removed]",
            "text/plain": [
              "<Figure size 720x720 with 2 Axes>"
            ]
          },
          "metadata": {
            "needs_background": "light"
          }
        }
      ]
    },
    {
      "cell_type": "code",
      "metadata": {
        "colab": {
          "base_uri": "https://localhost:8080/"
        },
        "id": "2GNxC8PK61rS",
        "outputId": "279c4ce1-cfd8-44c5-b6a9-0a51194e6a3c"
      },
      "source": [
        "# Compute the F1 scrore\n",
        "from sklearn.metrics import f1_score\n",
        "f1 = f1_score(actual_label, predicted_label, average=\"weighted\")\n",
        "print(f1)"
      ],
      "execution_count": 10,
      "outputs": [
        {
          "output_type": "stream",
          "name": "stdout",
          "text": [
            "0.8642936332048085\n"
          ]
        }
      ]
    }
  ]
}