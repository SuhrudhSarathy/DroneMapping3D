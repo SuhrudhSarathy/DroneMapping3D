{
  "nbformat": 4,
  "nbformat_minor": 0,
  "metadata": {
    "colab": {
      "name": "SpeciesClassifier-TrainingVGG.ipynb",
      "provenance": [],
      "collapsed_sections": [],
      "mount_file_id": "1dhlvUQy6HU13FVwNUhB-lt_Sbi0Zv8Gw",
      "authorship_tag": "ABX9TyMwLgYBkkt+xSxVWuyqS2Zd",
      "include_colab_link": true
    },
    "kernelspec": {
      "name": "python3",
      "display_name": "Python 3"
    },
    "language_info": {
      "name": "python"
    },
    "accelerator": "GPU"
  },
  "cells": [
    {
      "cell_type": "markdown",
      "metadata": {
        "id": "view-in-github",
        "colab_type": "text"
      },
      "source": [
        "<a href=\"https://colab.research.google.com/github/SuhrudhSarathy/ForestDeptProj/blob/main/TrainingVGG.ipynb\" target=\"_parent\"><img src=\"https://colab.research.google.com/assets/colab-badge.svg\" alt=\"Open In Colab\"/></a>"
      ]
    },
    {
      "cell_type": "code",
      "metadata": {
        "id": "vNZXG2Nxra-Q"
      },
      "source": [
        "import torch\n",
        "import torchvision\n",
        "import torch\n",
        "import torchvision\n",
        "import numpy as np\n",
        "import PIL\n",
        "import matplotlib.pyplot as plt\n",
        "import os\n",
        "%matplotlib inline\n",
        "\n",
        "dtype=torch.float\n",
        "device=torch.device(\"cuda\" if torch.cuda.is_available() else \"cpu\")"
      ],
      "execution_count": null,
      "outputs": []
    },
    {
      "cell_type": "code",
      "metadata": {
        "id": "qoq8hXXoryb7"
      },
      "source": [
        "train_dir = \"drive/MyDrive/Aero_Forest_Project/data/train\"\n",
        "test_dir = \"drive/MyDrive/Aero_Forest_Project/data/test\"\n",
        "val_dir = \"drive/MyDrive/Aero_Forest_Project/data/val\"\n",
        "trained_model = \"drive/MyDrive/Aero_Forest_Project/vgg.pth\""
      ],
      "execution_count": null,
      "outputs": []
    },
    {
      "cell_type": "code",
      "metadata": {
        "colab": {
          "base_uri": "https://localhost:8080/"
        },
        "id": "ApyHRrr8r1GW",
        "outputId": "eee13c8d-d9ea-4910-8f1a-8fa7154ed5e9"
      },
      "source": [
        "from torchvision import models, transforms, datasets\n",
        "data_transforms = {\n",
        "    'train': transforms.Compose([\n",
        "        transforms.RandomResizedCrop(224),\n",
        "        transforms.RandomHorizontalFlip(),\n",
        "        transforms.ToTensor(),\n",
        "        transforms.Normalize([0.485, 0.456, 0.406], [0.229, 0.224, 0.225])\n",
        "    ]),\n",
        "    'val': transforms.Compose([\n",
        "        transforms.Resize(256),\n",
        "        transforms.CenterCrop(224),\n",
        "        transforms.ToTensor(),\n",
        "        transforms.Normalize([0.485, 0.456, 0.406], [0.229, 0.224, 0.225])\n",
        "    ]),\n",
        "    'test': transforms.Compose([\n",
        "        transforms.Resize(256),\n",
        "        transforms.CenterCrop(224),\n",
        "        transforms.ToTensor(),\n",
        "        transforms.Normalize([0.485, 0.456, 0.406], [0.229, 0.224, 0.225])\n",
        "    ]),\n",
        "}\n",
        "train_dataset = datasets.ImageFolder(train_dir, data_transforms[\"train\"])\n",
        "test_dataset = datasets.ImageFolder(test_dir, data_transforms[\"test\"])\n",
        "val_dataset = datasets.ImageFolder(val_dir, data_transforms[\"val\"])\n",
        "\n",
        "# Dataloaders\n",
        "train_data = torch.utils.data.DataLoader(train_dataset, batch_size=8, shuffle=True)\n",
        "test_data = torch.utils.data.DataLoader(test_dataset, batch_size=1, shuffle=True)\n",
        "val_data = torch.utils.data.DataLoader(train_dataset, batch_size=8, shuffle=True)\n",
        "print(len(train_data), len(val_data))\n",
        "print(train_dataset.classes)"
      ],
      "execution_count": null,
      "outputs": [
        {
          "output_type": "stream",
          "name": "stdout",
          "text": [
            "255 255\n",
            "['Acanthus Ilicifolius', 'Bruguiera cylindrica', 'Bruguiera gymnorrihza', 'Ceriops Tagal', 'Excoecaria Agallocha', 'Kandelia Candel', 'Lumnizera recemosa', 'Rhizophora apiculata']\n"
          ]
        }
      ]
    },
    {
      "cell_type": "code",
      "metadata": {
        "id": "bSQwizL6sJTI"
      },
      "source": [
        "# Use a pretrained model to train\n",
        "# Train it a bit naively for now\n",
        "import torch.nn as nn\n",
        "import torch.nn.functional as F\n",
        "import torch.optim as optim\n",
        "from tqdm import tqdm\n",
        "\n",
        "class Model(nn.Module):\n",
        "    def __init__(self):\n",
        "        super(Model, self).__init__()\n",
        "        self.conv_net = models.vgg16(pretrained=True)\n",
        "        self.conv_net.classifier[6] = nn.Linear(self.conv_net.classifier[6].in_features, len(train_dataset.classes))\n",
        "\n",
        "        # Load the state dict from the drive after first train\n",
        "        self.load_state_dict(torch.load(trained_model, map_location=device))\n",
        "        # Freeze the parameters of the convnet (if you want a feature extractor only)\n",
        "        self.to(dtype).to(device)\n",
        "\n",
        "    def forward(self, X):\n",
        "        X = self.conv_net(X)\n",
        "        # returns the class only\n",
        "        _, preds = torch.max(X, 1)\n",
        "        # Return both to use for training\n",
        "        return X, preds\n",
        "\n",
        "    def train_model(self, EPOCHS):\n",
        "        self.optimiser = optim.SGD(self.parameters(), lr=1e-3, momentum=0.9)\n",
        "        self.criterion = nn.CrossEntropyLoss()\n",
        "\n",
        "        # Learning rate scheduler\n",
        "        self.lr_scheduler = optim.lr_scheduler.StepLR(self.optimiser, step_size=7, gamma=0.1)\n",
        "\n",
        "        # Each phase consists of train and val step\n",
        "        self.train_losses = []\n",
        "        self.val_losses = []\n",
        "        self.train_accuracy = []\n",
        "        self.val_accuracy = []\n",
        "\n",
        "        \n",
        "        for epoch in range(EPOCHS):\n",
        "            running_loss = 0\n",
        "            running_i = 0\n",
        "            running_coorects = 0\n",
        "            # TRAIN\n",
        "            self.train()\n",
        "            for inputs, labels in tqdm(train_data):\n",
        "                inputs = inputs.to(device)\n",
        "                labels = labels.to(device)\n",
        "\n",
        "                self.optimiser.zero_grad()\n",
        "\n",
        "                vals, preds = self.forward(inputs)\n",
        "                loss = self.criterion(vals, labels)\n",
        "\n",
        "                loss.backward()\n",
        "                self.optimiser.step()\n",
        "\n",
        "                running_loss += loss.item() * inputs.size(0)\n",
        "                running_coorects += torch.sum(preds == labels.data)\n",
        "\n",
        "            self.train_losses.append(running_loss/len(train_data))\n",
        "            self.train_accuracy.append(running_coorects.double()/(8*len(train_data)))\n",
        "\n",
        "            running_loss = 0\n",
        "            running_coorects = 0\n",
        "            # EVAL\n",
        "            self.eval()\n",
        "            for inputs, labels in tqdm(val_data):\n",
        "                inputs = inputs.to(device)\n",
        "                labels = labels.to(device)\n",
        "\n",
        "                with torch.set_grad_enabled(False):\n",
        "                    vals, preds = self.forward(inputs)\n",
        "                    loss = self.criterion(vals, labels)\n",
        "\n",
        "                    running_loss += loss.item() * inputs.size(0)\n",
        "                    running_coorects += torch.sum(preds == labels.data)\n",
        "\n",
        "            self.val_losses.append(running_loss/len(val_data))\n",
        "            self.val_accuracy.append(running_coorects.double()/(8*len(val_data)))\n",
        "            print()\n",
        "            print(f\"Epoch: {epoch + 1}, Val Loss: {self.val_losses[-1]}, Val Accuracy: {self.val_accuracy[-1]}, Train Loss: {self.train_losses[-1]}, Train Accuracy: {self.train_accuracy[-1]}\")\n",
        "            print()\n",
        "\n",
        "            # Save the model every 5 epochs\n",
        "            if epoch % 4 == 0:\n",
        "                torch.save(self.conv_net.state_dict(), trained_model)"
      ],
      "execution_count": null,
      "outputs": []
    },
    {
      "cell_type": "code",
      "metadata": {
        "id": "ABeZhfKxtiU3"
      },
      "source": [
        "model = Model()"
      ],
      "execution_count": null,
      "outputs": []
    },
    {
      "cell_type": "code",
      "metadata": {
        "colab": {
          "base_uri": "https://localhost:8080/"
        },
        "id": "j5lv9EtxvqIC",
        "outputId": "15ba96bd-d9dd-4ca3-d0de-8cd26fe77112"
      },
      "source": [
        "model.train_model(5)"
      ],
      "execution_count": null,
      "outputs": [
        {
          "output_type": "stream",
          "name": "stderr",
          "text": [
            "100%|██████████| 255/255 [02:21<00:00,  1.80it/s]\n",
            "100%|██████████| 255/255 [01:16<00:00,  3.32it/s]\n"
          ]
        },
        {
          "output_type": "stream",
          "name": "stdout",
          "text": [
            "\n",
            "Epoch: 1, Val Loss: 4.4308229513904624, Val Accuracy: 0.8132352941176471, Train Loss: 5.202088251008707, Train Accuracy: 0.7735294117647059\n",
            "\n"
          ]
        },
        {
          "output_type": "stream",
          "name": "stderr",
          "text": [
            "100%|██████████| 255/255 [02:21<00:00,  1.80it/s]\n",
            "100%|██████████| 255/255 [01:16<00:00,  3.32it/s]\n"
          ]
        },
        {
          "output_type": "stream",
          "name": "stdout",
          "text": [
            "\n",
            "Epoch: 2, Val Loss: 4.345368314958086, Val Accuracy: 0.8284313725490196, Train Loss: 4.8334543664665786, Train Accuracy: 0.7867647058823529\n",
            "\n"
          ]
        },
        {
          "output_type": "stream",
          "name": "stderr",
          "text": [
            "100%|██████████| 255/255 [02:21<00:00,  1.80it/s]\n",
            "100%|██████████| 255/255 [01:16<00:00,  3.33it/s]\n"
          ]
        },
        {
          "output_type": "stream",
          "name": "stdout",
          "text": [
            "\n",
            "Epoch: 3, Val Loss: 3.056834990662687, Val Accuracy: 0.8735294117647059, Train Loss: 4.095544661844478, Train Accuracy: 0.8333333333333334\n",
            "\n"
          ]
        },
        {
          "output_type": "stream",
          "name": "stderr",
          "text": [
            "100%|██████████| 255/255 [02:21<00:00,  1.80it/s]\n",
            "100%|██████████| 255/255 [01:16<00:00,  3.32it/s]\n"
          ]
        },
        {
          "output_type": "stream",
          "name": "stdout",
          "text": [
            "\n",
            "Epoch: 4, Val Loss: 3.286815830013331, Val Accuracy: 0.8588235294117647, Train Loss: 3.7282934860563746, Train Accuracy: 0.8401960784313726\n",
            "\n"
          ]
        },
        {
          "output_type": "stream",
          "name": "stderr",
          "text": [
            "100%|██████████| 255/255 [02:21<00:00,  1.80it/s]\n",
            "100%|██████████| 255/255 [01:16<00:00,  3.31it/s]\n"
          ]
        },
        {
          "output_type": "stream",
          "name": "stdout",
          "text": [
            "\n",
            "Epoch: 5, Val Loss: 2.736247663813479, Val Accuracy: 0.8848039215686274, Train Loss: 3.713117270153381, Train Accuracy: 0.8362745098039216\n",
            "\n"
          ]
        }
      ]
    },
    {
      "cell_type": "code",
      "metadata": {
        "id": "ZlxPLD8_tmeE",
        "colab": {
          "base_uri": "https://localhost:8080/",
          "height": 282
        },
        "outputId": "31cfd65a-2e69-407a-d549-ab52350db0c6"
      },
      "source": [
        "plt.plot(model.train_accuracy, color=\"red\", label=\"Train Accuracy\")\n",
        "plt.plot(model.val_accuracy, color=\"green\", label=\"Val Accuracy\")\n",
        "plt.legend()"
      ],
      "execution_count": null,
      "outputs": [
        {
          "output_type": "execute_result",
          "data": {
            "text/plain": [
              "<matplotlib.legend.Legend at 0x7f7f1a6829d0>"
            ]
          },
          "metadata": {},
          "execution_count": 25
        },
        {
          "output_type": "display_data",
          "data": {
            "image/png": "[encoded data removed]",
            "text/plain": [
              "<Figure size 432x288 with 1 Axes>"
            ]
          },
          "metadata": {
            "needs_background": "light"
          }
        }
      ]
    },
    {
      "cell_type": "code",
      "metadata": {
        "id": "eH_-ruxMvcHY",
        "colab": {
          "base_uri": "https://localhost:8080/"
        },
        "outputId": "ac031a35-e85f-4c24-edef-20e4fb3516c6"
      },
      "source": [
        "# Lets try testing it\n",
        "model.eval()\n",
        "test_correct = 0\n",
        "print(len(test_data))\n",
        "\n",
        "for input, label in tqdm(test_data):\n",
        "    input = input.to(device)\n",
        "    label = label.to(device)\n",
        "    _, pred = model(input)\n",
        "    if pred.item() == label.item():\n",
        "        test_correct += 1\n",
        "print(test_correct)\n",
        "print(f\"Accuracy: {test_correct * 100/len(test_data)}\")"
      ],
      "execution_count": null,
      "outputs": [
        {
          "output_type": "stream",
          "name": "stdout",
          "text": [
            "280\n"
          ]
        },
        {
          "output_type": "stream",
          "name": "stderr",
          "text": [
            "100%|██████████| 280/280 [01:20<00:00,  3.46it/s]"
          ]
        },
        {
          "output_type": "stream",
          "name": "stdout",
          "text": [
            "242\n",
            "Accuracy: 86.42857142857143\n"
          ]
        },
        {
          "output_type": "stream",
          "name": "stderr",
          "text": [
            "\n"
          ]
        }
      ]
    },
    {
      "cell_type": "code",
      "metadata": {
        "id": "GpnoQ8ohvgSH",
        "colab": {
          "base_uri": "https://localhost:8080/",
          "height": 744
        },
        "outputId": "596a68f6-7dde-47a2-e3fd-a3456079b1fd"
      },
      "source": [
        "# trying to make a confusion matrix as well\n",
        "from sklearn.metrics import confusion_matrix\n",
        "import pandas as pd\n",
        "import seaborn as sns\n",
        "model.eval()\n",
        "test_correct = 0\n",
        "predicted_label = []\n",
        "actual_label = []\n",
        "\n",
        "logs = []\n",
        "\n",
        "for input, label in test_data:\n",
        "    input = input.to(device)\n",
        "    label = label.to(device)\n",
        "\n",
        "    val, pred = model(input)\n",
        "    val_percent = F.softmax(val, dim=-1)\n",
        "    logs.append(f\"Percentage: {torch.max(val_percent).item()}, Predicted Class: {pred.item()}, Correct Class: {label.item()}\")\n",
        "    predicted_label.append(pred.item())\n",
        "    actual_label.append(label.item())\n",
        "\n",
        "    if pred.item() == label.item():\n",
        "        test_correct += 1\n",
        "\n",
        "print(f\"Accuracy: {test_correct * 100/len(test_data)}\")\n",
        "cm = confusion_matrix(actual_label, predicted_label)\n",
        "cm_df = pd.DataFrame(cm, index=train_dataset.classes, columns=train_dataset.classes)\n",
        "\n",
        "# plot the heatmap\n",
        "plt.figure(figsize=(10, 10))\n",
        "sns.heatmap(cm_df, annot=True)\n",
        "plt.title(\"Confusion Matrix\")\n",
        "plt.ylabel('Actal Values')\n",
        "plt.xlabel('Predicted Values')\n",
        "plt.show();"
      ],
      "execution_count": null,
      "outputs": [
        {
          "output_type": "stream",
          "name": "stdout",
          "text": [
            "Accuracy: 87.5\n"
          ]
        },
        {
          "output_type": "display_data",
          "data": {
            "image/png": "[encoded data removed]",
            "text/plain": [
              "<Figure size 720x720 with 2 Axes>"
            ]
          },
          "metadata": {
            "needs_background": "light"
          }
        }
      ]
    },
    {
      "cell_type": "code",
      "metadata": {
        "id": "T03YoGXMvgLg",
        "colab": {
          "base_uri": "https://localhost:8080/",
          "height": 295
        },
        "outputId": "e0e990b9-adf3-4662-b393-d981fb27e6d3"
      },
      "source": [
        "# Try and plot the percentages like a bar plot\n",
        "ninty_plus = 0\n",
        "seventy_five_plus = 0\n",
        "seventy_five_less = 0\n",
        "\n",
        "for entry in logs:\n",
        "    entry = entry.split()\n",
        "    accuracies = float(entry[1].replace(\",\", ''))\n",
        "    if accuracies > 0.9:\n",
        "        ninty_plus += 1\n",
        "    elif 0.75 <= accuracies <= 0.9:\n",
        "        seventy_five_plus += 1\n",
        "    else:\n",
        "        seventy_five_less += 1\n",
        "\n",
        "cats = [\"90+\", \"75+\", \"75-\"]\n",
        "counts = [ninty_plus, seventy_five_plus, seventy_five_less]\n",
        "\n",
        "\n",
        "plt.bar(cats, counts, color ='blue', width = 0.4, alpha=0.75)\n",
        " \n",
        "plt.xlabel(\"Classes\")\n",
        "plt.ylabel(\"Counts\")\n",
        "plt.title(\"Dataset Percentage Predictions\")\n",
        "plt.show()"
      ],
      "execution_count": null,
      "outputs": [
        {
          "output_type": "display_data",
          "data": {
            "image/png": "[encoded data removed]",
            "text/plain": [
              "<Figure size 432x288 with 1 Axes>"
            ]
          },
          "metadata": {
            "needs_background": "light"
          }
        }
      ]
    },
    {
      "cell_type": "code",
      "metadata": {
        "id": "ErP6Mxy-2EFF"
      },
      "source": [
        "# Save the model again\n",
        "torch.save(model.state_dict(), trained_model)"
      ],
      "execution_count": null,
      "outputs": []
    }
  ]
}